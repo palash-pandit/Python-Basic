{
  "nbformat": 4,
  "nbformat_minor": 0,
  "metadata": {
    "colab": {
      "provenance": []
    },
    "kernelspec": {
      "name": "python3",
      "display_name": "Python 3"
    },
    "language_info": {
      "name": "python"
    }
  },
  "cells": [
    {
      "cell_type": "markdown",
      "source": [
        "Python Basics Questions"
      ],
      "metadata": {
        "id": "ZnKSZGihL2Rw"
      }
    },
    {
      "cell_type": "markdown",
      "source": [
        "1. What is Python, and why is it popular ?\n",
        "\n",
        "      => python is a high level programming language.\n",
        "          It is popoular for its modularity,easy syntax,well active community and automation.\n",
        "\n"
      ],
      "metadata": {
        "id": "AKY7gXGnL0uP"
      }
    },
    {
      "cell_type": "markdown",
      "source": [
        "2.What is an interpreter in Python ?\n",
        "\n",
        "      =>  A program that executes Python code line by line, converting it into machine-readable instructions at runtime, without the need for prior compilation."
      ],
      "metadata": {
        "id": "yK5F2ZonNVxm"
      }
    },
    {
      "cell_type": "markdown",
      "source": [
        "3.What are pre-defined keywords in Python ?\n",
        "\n",
        "     =>pre-defined keywords are the keywords that had a special meaning and a special purpose."
      ],
      "metadata": {
        "id": "23eqoxefOCgF"
      }
    },
    {
      "cell_type": "markdown",
      "source": [
        "4.Can keywords be used as variable names ?\n",
        "\n",
        "      =>No, keywords cannot be use as variables names."
      ],
      "metadata": {
        "id": "1YKbQCGuOlNE"
      }
    },
    {
      "cell_type": "markdown",
      "source": [
        "5.What is mutability in Python ?\n",
        "\n",
        "      => Mutability in python is a rule that is used to restrict the variables or objects from updation."
      ],
      "metadata": {
        "id": "Ihth5M9GO6ZN"
      }
    },
    {
      "cell_type": "markdown",
      "source": [
        "6.Why are lists mutable, but tuples are immutable ?\n",
        "\n",
        "      =>Both lists and tuples are data types in python that are used to store,manage,update the data.\n",
        "      Lists are mutable because their elements can be changed, added, or removed after the list is created.\n",
        "      Tuples are immutable because their elements cannot be changed once the tuple is created."
      ],
      "metadata": {
        "id": "AX7YZwdCPcJH"
      }
    },
    {
      "cell_type": "markdown",
      "source": [
        "7.What is the difference between “==” and “is” operators in Python ?\n",
        "     \n",
        "      =>'==' is a comparision operator that is used to compare to elements, and in return it give the boolean values.\n",
        "        'is' is an identity operator that is used to determine whether two objets are in same memory location or not.\n"
      ],
      "metadata": {
        "id": "Fe8CjEM_QVyD"
      }
    },
    {
      "cell_type": "markdown",
      "source": [
        "8.What are logical operators in Python ?\n",
        "      \n",
        "      =>Logical Operators in Python are used to combine conditional statements and return a Boolean value (True or False)."
      ],
      "metadata": {
        "id": "qiBK7MBIR6Hf"
      }
    },
    {
      "cell_type": "markdown",
      "source": [
        "9.What is type casting in Python ?\n",
        "\n",
        "      =>Type casting is the process of changing the data types of the objects or containers to another data types."
      ],
      "metadata": {
        "id": "mF-lH3uSSphT"
      }
    },
    {
      "cell_type": "markdown",
      "source": [
        "10.What is the difference between implicit and explicit type casting?\n",
        "\n",
        "      =>Implicit: It means  changing the data types of the objects or containers using the primitive datatypes.\n",
        "\n",
        "      => name = input(\"Enter the name: \")\n",
        "\n",
        "      =>Explicit:\n",
        "\n",
        "\n",
        "\n"
      ],
      "metadata": {
        "id": "gEw9s6CdTLyY"
      }
    },
    {
      "cell_type": "markdown",
      "source": [
        "11.What is the purpose of conditional statements in Python ?\n",
        "\n",
        "      =>The purpose of conditional statements in Python is to control the flow of a program by executing certain code only when specific conditions are met."
      ],
      "metadata": {
        "id": "CRJzahHvTMUW"
      }
    },
    {
      "cell_type": "markdown",
      "source": [
        "12.How does the elif statement work ?\n",
        "\n",
        "      =>The elif statement checks another condition if the previous if (or elif) condition was false, and runs its block if true."
      ],
      "metadata": {
        "id": "0WUF1Ln_TM2I"
      }
    },
    {
      "cell_type": "markdown",
      "source": [
        " 13.What is the difference between for and while loops?\n",
        "\n",
        "      =>A for loop repeats over a sequence for a set number of iterations, while a while loop repeats until a condition becomes false."
      ],
      "metadata": {
        "id": "bXWbR4TSTNSx"
      }
    },
    {
      "cell_type": "markdown",
      "source": [
        "14.Describe a scenario where a while loop is more suitable than a for loop?\n",
        "\n",
        "      =>where we didnot know how many times the loop will iterate ."
      ],
      "metadata": {
        "id": "787YKEu3TOF9"
      }
    },
    {
      "cell_type": "markdown",
      "source": [],
      "metadata": {
        "id": "KPi5YJtoTOjB"
      }
    },
    {
      "cell_type": "markdown",
      "source": [
        "Practical Questions\n"
      ],
      "metadata": {
        "id": "8HXaALnhMKCj"
      }
    },
    {
      "cell_type": "code",
      "source": [
        "#1.Write a Python program to print \"Hello, World!\n",
        "\n",
        "print(\"Hello, World!\")"
      ],
      "metadata": {
        "colab": {
          "base_uri": "https://localhost:8080/"
        },
        "id": "kTZqQuENs61d",
        "outputId": "ef9ca50e-b3a4-41df-93f7-cb7160ff6805"
      },
      "execution_count": null,
      "outputs": [
        {
          "output_type": "stream",
          "name": "stdout",
          "text": [
            "Hello, World!\n"
          ]
        }
      ]
    },
    {
      "cell_type": "code",
      "source": [
        "#2.Write a Python program that displays your name and age\n",
        "\n",
        "name=input(\"enter the name: \")\n",
        "age=int(input(\"enter the age:\"))\n",
        "print(\"My name is {} and my age is {}\".format(name,age))"
      ],
      "metadata": {
        "colab": {
          "base_uri": "https://localhost:8080/",
          "height": 211
        },
        "id": "7KphZhl3tI4B",
        "outputId": "dbfe48c8-5771-4185-ff02-fb4cd93067d2"
      },
      "execution_count": null,
      "outputs": [
        {
          "output_type": "error",
          "ename": "TypeError",
          "evalue": "'str' object is not callable",
          "traceback": [
            "\u001b[0;31m---------------------------------------------------------------------------\u001b[0m",
            "\u001b[0;31mTypeError\u001b[0m                                 Traceback (most recent call last)",
            "\u001b[0;32m/tmp/ipython-input-2312027142.py\u001b[0m in \u001b[0;36m<cell line: 0>\u001b[0;34m()\u001b[0m\n\u001b[1;32m      1\u001b[0m \u001b[0;31m#2.Write a Python program that displays your name and age\u001b[0m\u001b[0;34m\u001b[0m\u001b[0;34m\u001b[0m\u001b[0m\n\u001b[1;32m      2\u001b[0m \u001b[0;34m\u001b[0m\u001b[0m\n\u001b[0;32m----> 3\u001b[0;31m \u001b[0mname\u001b[0m\u001b[0;34m=\u001b[0m\u001b[0minput\u001b[0m\u001b[0;34m(\u001b[0m\u001b[0;34m\"enter the name: \"\u001b[0m\u001b[0;34m)\u001b[0m\u001b[0;34m\u001b[0m\u001b[0;34m\u001b[0m\u001b[0m\n\u001b[0m\u001b[1;32m      4\u001b[0m \u001b[0mage\u001b[0m\u001b[0;34m=\u001b[0m\u001b[0mint\u001b[0m\u001b[0;34m(\u001b[0m\u001b[0minput\u001b[0m\u001b[0;34m(\u001b[0m\u001b[0;34m\"enter the age:\"\u001b[0m\u001b[0;34m)\u001b[0m\u001b[0;34m)\u001b[0m\u001b[0;34m\u001b[0m\u001b[0;34m\u001b[0m\u001b[0m\n\u001b[1;32m      5\u001b[0m \u001b[0mprint\u001b[0m\u001b[0;34m(\u001b[0m\u001b[0;34m\"My name is {} and my age is {}\"\u001b[0m\u001b[0;34m.\u001b[0m\u001b[0mformat\u001b[0m\u001b[0;34m(\u001b[0m\u001b[0mname\u001b[0m\u001b[0;34m,\u001b[0m\u001b[0mage\u001b[0m\u001b[0;34m)\u001b[0m\u001b[0;34m)\u001b[0m\u001b[0;34m\u001b[0m\u001b[0;34m\u001b[0m\u001b[0m\n",
            "\u001b[0;31mTypeError\u001b[0m: 'str' object is not callable"
          ]
        }
      ]
    },
    {
      "cell_type": "code",
      "source": [
        "\n",
        "\n",
        "#3.Write code to print all the pre-defined keywords in Python using the keyword library\n",
        "\n",
        "print(help(keyword))\n"
      ],
      "metadata": {
        "id": "05WM0ol-tpsh"
      },
      "execution_count": null,
      "outputs": []
    },
    {
      "cell_type": "code",
      "source": [
        "#4.Write a program that checks if a given word is a Python keyword\n",
        "import keyword\n",
        "print(keyword.kwlist)\n",
        "\n",
        "keyword=keyword.kwlist\n",
        "\n",
        "word=input(\"enter the word:\")\n",
        "if word in keyword:\n",
        "  print(\" it is a keyword\")\n",
        "else:\n",
        "  print(\"it is not a keyword\")"
      ],
      "metadata": {
        "colab": {
          "base_uri": "https://localhost:8080/",
          "height": 248
        },
        "id": "yxnQo7VStx9G",
        "outputId": "40e1fea6-bc81-460f-a229-b15d7fbafbdc"
      },
      "execution_count": null,
      "outputs": [
        {
          "output_type": "stream",
          "name": "stdout",
          "text": [
            "['False', 'None', 'True', 'and', 'as', 'assert', 'async', 'await', 'break', 'class', 'continue', 'def', 'del', 'elif', 'else', 'except', 'finally', 'for', 'from', 'global', 'if', 'import', 'in', 'is', 'lambda', 'nonlocal', 'not', 'or', 'pass', 'raise', 'return', 'try', 'while', 'with', 'yield']\n"
          ]
        },
        {
          "output_type": "error",
          "ename": "TypeError",
          "evalue": "'str' object is not callable",
          "traceback": [
            "\u001b[0;31m---------------------------------------------------------------------------\u001b[0m",
            "\u001b[0;31mTypeError\u001b[0m                                 Traceback (most recent call last)",
            "\u001b[0;32m/tmp/ipython-input-3052241678.py\u001b[0m in \u001b[0;36m<cell line: 0>\u001b[0;34m()\u001b[0m\n\u001b[1;32m      5\u001b[0m \u001b[0mkeyword\u001b[0m\u001b[0;34m=\u001b[0m\u001b[0mkeyword\u001b[0m\u001b[0;34m.\u001b[0m\u001b[0mkwlist\u001b[0m\u001b[0;34m\u001b[0m\u001b[0;34m\u001b[0m\u001b[0m\n\u001b[1;32m      6\u001b[0m \u001b[0;34m\u001b[0m\u001b[0m\n\u001b[0;32m----> 7\u001b[0;31m \u001b[0mword\u001b[0m\u001b[0;34m=\u001b[0m\u001b[0minput\u001b[0m\u001b[0;34m(\u001b[0m\u001b[0;34m\"enter the word:\"\u001b[0m\u001b[0;34m)\u001b[0m\u001b[0;34m\u001b[0m\u001b[0;34m\u001b[0m\u001b[0m\n\u001b[0m\u001b[1;32m      8\u001b[0m \u001b[0;32mif\u001b[0m \u001b[0mword\u001b[0m \u001b[0;32min\u001b[0m \u001b[0mkeyword\u001b[0m\u001b[0;34m:\u001b[0m\u001b[0;34m\u001b[0m\u001b[0;34m\u001b[0m\u001b[0m\n\u001b[1;32m      9\u001b[0m   \u001b[0mprint\u001b[0m\u001b[0;34m(\u001b[0m\u001b[0;34m\" it is a keyword\"\u001b[0m\u001b[0;34m)\u001b[0m\u001b[0;34m\u001b[0m\u001b[0;34m\u001b[0m\u001b[0m\n",
            "\u001b[0;31mTypeError\u001b[0m: 'str' object is not callable"
          ]
        }
      ]
    },
    {
      "cell_type": "code",
      "source": [
        "#5. Create a list and tuple in Python, and demonstrate how attempting to change an element works differently\n",
        "\n",
        "list=[\"palash\",34,4.67]\n",
        "print(list)\n",
        "list.append(\"pandit\")\n",
        "print(list)\n",
        "\n",
        "tuple=(\"palash\",234,7.89,3+7j)\n",
        "tuple[0]=\"pandit\"\n",
        "# it can't be changed\n"
      ],
      "metadata": {
        "id": "hTLVPF2evVMS"
      },
      "execution_count": null,
      "outputs": []
    },
    {
      "cell_type": "code",
      "source": [
        "#6. Write a function to demonstrate the behavior of mutable and immutable arguments.\n",
        "mutable="
      ],
      "metadata": {
        "id": "54ZIy9rSws1u"
      },
      "execution_count": null,
      "outputs": []
    },
    {
      "cell_type": "code",
      "source": [
        "#7Write a program that performs basic arithmetic operations on two user-input numbers.\n",
        "a=int(input(\"enter the number: \"))\n",
        "b=int(input(\"enter the number: \"))\n",
        "print(\"the multiplication of {} and {} is {}\".format(a,b,a*b))\n",
        "print(\"the division of {} and {} is {}\".format(a,b,a/b))\n",
        "print(\"the addition of {} and {} is {}\".format(a,b,a+b))\n",
        "print(\"the substraction of {} and {} is {}\".format(a,b,a-b))\n"
      ],
      "metadata": {
        "id": "8VKkecroB3jY"
      },
      "execution_count": null,
      "outputs": []
    },
    {
      "cell_type": "code",
      "source": [
        "#8 Write a program to demonstrate the use of logical operators.\n",
        "\n",
        "# Program to demonstrate logical operators\n",
        "\n",
        "# Take user input\n",
        "a = int(input(\"Enter first number: \"))\n",
        "b = int(input(\"Enter second number: \"))\n",
        "\n",
        "# Logical AND\n",
        "print(\"\\nLogical AND (a > 0 and b > 0):\", a > 0 and b > 0)\n",
        "\n",
        "# Logical OR\n",
        "print(\"Logical OR (a > 0 or b > 0):\", a > 0 or b > 0)\n",
        "\n",
        "# Logical NOT\n",
        "print(\"Logical NOT (not(a > 0)):\", not(a > 0))\n"
      ],
      "metadata": {
        "id": "40jKOAx2DPaO"
      },
      "execution_count": null,
      "outputs": []
    },
    {
      "cell_type": "code",
      "source": [
        "#9 Write a Python program to convert user input from string to integer, float, and boolean types.\n",
        "\n",
        "user_input=input(\"Enter a value: \")\n",
        "integer_value=int(user_input)\n",
        "print(type(integer_value))\n",
        "float_value=float(user_input)\n",
        "print(type(float_value))\n",
        "boolean_value=bool(user_input)\n",
        "print(type(boolean_value))\n"
      ],
      "metadata": {
        "id": "NlWJv4nUGLBT"
      },
      "execution_count": null,
      "outputs": []
    },
    {
      "cell_type": "code",
      "source": [
        "#10 Write code to demonstrate type casting with list elements\n",
        "list=[23,\"78\",3.45]\n",
        "for element in list:\n",
        "  integers=[int(element) for element in list]\n",
        "print(integers)\n",
        "\n",
        "for element in list:\n",
        "  floatingpoint=[float(element) for element in list]\n",
        "print(floatingpoint)\n",
        "\n",
        "\n",
        "for element in list:\n",
        "  boolean=[bool(element) for element in list]\n",
        "print(boolean)"
      ],
      "metadata": {
        "id": "Tyd-NA6bGdV6"
      },
      "execution_count": null,
      "outputs": []
    },
    {
      "cell_type": "code",
      "source": [
        "#11 Write a program that checks if a number is positive, negative, or zero.\n",
        "\n",
        "num=int(input(\"enter the number: \"))\n",
        "\n",
        "if num >= 0:\n",
        "  print(f\"The number {num} is positive\")\n",
        "elif num==0:\n",
        "  print(f\"The number {num} is zero\")\n",
        "else:\n",
        "  print(f\"The number {num} is negative\")\n"
      ],
      "metadata": {
        "id": "IfF-RL4AIhVn"
      },
      "execution_count": null,
      "outputs": []
    },
    {
      "cell_type": "code",
      "source": [
        "12#Write a for loop to print numbers from 1 to 10\n",
        "for i in range(1,11):\n",
        "  print(i,end=\" \")"
      ],
      "metadata": {
        "colab": {
          "base_uri": "https://localhost:8080/"
        },
        "id": "zwjEalErKOPC",
        "outputId": "b67d6d22-d8df-4e49-cf88-b39eff19ecfc"
      },
      "execution_count": null,
      "outputs": [
        {
          "output_type": "stream",
          "name": "stdout",
          "text": [
            "1 2 3 4 5 6 7 8 9 10 "
          ]
        }
      ]
    },
    {
      "cell_type": "code",
      "source": [
        "#13 Write a Python program to find the sum of all even numbers between 1 and 50.\n",
        "sum=0\n",
        "for i in range(1,51):\n",
        "  if i % 2 == 0:\n",
        "    sum=sum+i\n",
        "print(sum)\n",
        "\n"
      ],
      "metadata": {
        "colab": {
          "base_uri": "https://localhost:8080/"
        },
        "id": "ZUemnA4oKfPQ",
        "outputId": "f5392438-8c8f-4a36-e60f-fb8d81806356"
      },
      "execution_count": null,
      "outputs": [
        {
          "output_type": "stream",
          "name": "stdout",
          "text": [
            "650\n"
          ]
        }
      ]
    },
    {
      "cell_type": "code",
      "source": [
        "#14 Write a program to reverse a string using a while loop.\n",
        "\n",
        "\n",
        "# Take input from user\n",
        "text = input(\"Enter a string: \")\n",
        "\n",
        "# Initialize index at last character\n",
        "index = len(text) - 1\n",
        "\n",
        "# Reverse string using while loop\n",
        "reversed_text = \"\"\n",
        "while index >= 0:\n",
        "    reversed_text += text[index]\n",
        "    index -= 1\n",
        "\n",
        "print(\"Reversed string:\", reversed_text)\n",
        "\n"
      ],
      "metadata": {
        "id": "sAfMM8smL4it"
      },
      "execution_count": null,
      "outputs": []
    },
    {
      "cell_type": "code",
      "source": [
        "#15 Write a Python program to calculate the factorial of a number provided by the user using a while loop.\n",
        "\n",
        "\n",
        "\n",
        "# Take input from user\n",
        "num = int(input(\"Enter a number: \"))\n",
        "\n",
        "# Initialize variables\n",
        "factorial = 1\n",
        "i = 1\n",
        "\n",
        "# Calculate factorial using while loop\n",
        "while i <= num:\n",
        "    factorial *= i\n",
        "    i += 1\n",
        "\n",
        "# Display result\n",
        "print(f\"Factorial of {num} is {factorial}\")\n"
      ],
      "metadata": {
        "id": "RqoKBUQPL-Nx"
      },
      "execution_count": null,
      "outputs": []
    }
  ]
}